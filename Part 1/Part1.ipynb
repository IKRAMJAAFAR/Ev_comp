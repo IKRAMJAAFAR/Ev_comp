{
 "cells": [
  {
   "cell_type": "code",
   "execution_count": null,
   "metadata": {},
   "outputs": [],
   "source": [
    "%pip install pandas"
   ]
  },
  {
   "cell_type": "code",
   "execution_count": null,
   "metadata": {},
   "outputs": [],
   "source": [
    "import random\n",
    "import string\n",
    "import datetime\n",
    "import pandas as pd\n",
    "\n",
    "# Target string\n",
    "target = \"HelloWorld!!\"\n",
    "target_length = len(target)\n",
    "characters = string.ascii_letters + string.punctuation # Possible character set"
   ]
  },
  {
   "cell_type": "markdown",
   "metadata": {},
   "source": [
    "# Mutation only experiment"
   ]
  },
  {
   "cell_type": "code",
   "execution_count": null,
   "metadata": {},
   "outputs": [],
   "source": [
    "mutation = [0.005, 0.01, 0.025, 0.05, 0.075, 0.1, 0.25, 0.5, 0.75]\n",
    "crossover = [None] * len(mutation)\n",
    "population_size = [100] * len(mutation)\n",
    "generation_sol = []\n",
    "duration = []\n",
    "file_name = [\"mutate_only.py\"] * len(mutation)"
   ]
  },
  {
   "cell_type": "code",
   "execution_count": null,
   "metadata": {},
   "outputs": [],
   "source": [
    "for ind in range(len(mutation)):\n",
    "    start = datetime.datetime.now()\n",
    "    gene = 0 # Refer to the genetic algorithm python file\n",
    "    end = datetime.datetime.now()\n",
    "\n",
    "    generation_sol.append(gene)\n",
    "    duration.append(end - start)"
   ]
  },
  {
   "cell_type": "code",
   "execution_count": null,
   "metadata": {},
   "outputs": [],
   "source": [
    "table = { \\\n",
    "    \"Experiment\": [(\"M-\" + str(i)) for i in range(1,len(mutation) + 1)],\n",
    "    \"Mutation Rate\": mutation,\n",
    "    \"Crossover\": crossover,\n",
    "    \"Population Size\": population_size,\n",
    "    \"Generation To Solve\": generation_sol,\n",
    "    \"Time Complexity\": duration,\n",
    "    \"File name\": file_name\n",
    "    }\n",
    "mutate_df = pd.DataFrame(data = table)\n",
    "mutate_df"
   ]
  },
  {
   "cell_type": "markdown",
   "metadata": {},
   "source": [
    "# Crossover only experiment"
   ]
  },
  {
   "cell_type": "code",
   "execution_count": null,
   "metadata": {},
   "outputs": [],
   "source": [
    "mutation = [0.005, 0.01, 0.025, 0.05, 0.075, 0.1, 0.25, 0.5, 0.75]\n",
    "crossover = [None] * len(mutation)\n",
    "population_size = [100] * len(mutation)\n",
    "generation_sol = []\n",
    "duration = []\n",
    "file_name = []"
   ]
  },
  {
   "cell_type": "code",
   "execution_count": null,
   "metadata": {},
   "outputs": [],
   "source": [
    "for ind in range(len(mutation)):\n",
    "    start = datetime.datetime.now()\n",
    "    gene = 0 # Refer to the genetic algorithm python file\n",
    "    end = datetime.datetime.now()\n",
    "\n",
    "    generation_sol.append(gene)\n",
    "    duration.append(end - start)"
   ]
  },
  {
   "cell_type": "code",
   "execution_count": null,
   "metadata": {},
   "outputs": [],
   "source": [
    "table = { \\\n",
    "    \"Experiment\": [(\"C-\" + str(i)) for i in range(1,len(mutation) + 1)],\n",
    "    \"Mutation Rate\": mutation,\n",
    "    \"Crossover Technique\": crossover,\n",
    "    \"Population Size\": population_size,\n",
    "    \"Generation To Solve\": generation_sol,\n",
    "    \"Time Complexity\": duration,\n",
    "    \"File name\": file_name\n",
    "    }\n",
    "crossover_df = pd.DataFrame(data = table)\n",
    "crossover_df"
   ]
  },
  {
   "cell_type": "markdown",
   "metadata": {},
   "source": [
    "# Mutation + Crossover Experiment"
   ]
  },
  {
   "cell_type": "code",
   "execution_count": null,
   "metadata": {},
   "outputs": [],
   "source": [
    "mutation = [0.005, 0.01, 0.025, 0.05, 0.075, 0.1, 0.25, 0.5, 0.75]\n",
    "crossover = [None] * len(mutation)\n",
    "population_size = [100] * len(mutation)\n",
    "generation_sol = []\n",
    "duration = []\n",
    "file_name = []"
   ]
  },
  {
   "cell_type": "code",
   "execution_count": null,
   "metadata": {},
   "outputs": [],
   "source": [
    "for ind in range(len(mutation)):\n",
    "    start = datetime.datetime.now()\n",
    "    gene = 0 # Refer to the genetic algorithm python file\n",
    "    end = datetime.datetime.now()\n",
    "\n",
    "    generation_sol.append(gene)\n",
    "    duration.append(end - start)"
   ]
  },
  {
   "cell_type": "code",
   "execution_count": null,
   "metadata": {},
   "outputs": [],
   "source": [
    "table = { \\\n",
    "    \"Experiment\": [(\"MC-\" + str(i)) for i in range(1,len(mutation) + 1)],\n",
    "    \"Mutation Rate\": mutation,\n",
    "    \"Crossover Technique\": crossover,\n",
    "    \"Population Size\": population_size,\n",
    "    \"Generation To Solve\": generation_sol,\n",
    "    \"Time Complexity\": duration,\n",
    "    \"File name\": file_name\n",
    "    }\n",
    "mutcross_df = pd.DataFrame(data = table)\n",
    "mutcross_df"
   ]
  },
  {
   "cell_type": "markdown",
   "metadata": {},
   "source": [
    "# Population Size Experiment"
   ]
  },
  {
   "cell_type": "code",
   "execution_count": null,
   "metadata": {},
   "outputs": [],
   "source": [
    "mutation = [0.005, 0.01, 0.025, 0.05, 0.075, 0.1, 0.25, 0.5, 0.75]\n",
    "crossover = [None] * len(mutation)\n",
    "population_size = [100] * len(mutation)\n",
    "generation_sol = []\n",
    "duration = []\n",
    "file_name = []"
   ]
  },
  {
   "cell_type": "code",
   "execution_count": null,
   "metadata": {},
   "outputs": [],
   "source": [
    "for ind in range(len(mutation)):\n",
    "    start = datetime.datetime.now()\n",
    "    gene = 0 # Refer to the genetic algorithm python file\n",
    "    end = datetime.datetime.now()\n",
    "\n",
    "    generation_sol.append(gene)\n",
    "    duration.append(end - start)"
   ]
  },
  {
   "cell_type": "code",
   "execution_count": null,
   "metadata": {},
   "outputs": [],
   "source": [
    "table = { \\\n",
    "    \"Experiment\": [(\"P-\" + str(i)) for i in range(1,len(mutation) + 1)],\n",
    "    \"Mutation Rate\": mutation,\n",
    "    \"Crossover Technique\": crossover,\n",
    "    \"Population Size\": population_size,\n",
    "    \"Generation To Solve\": generation_sol,\n",
    "    \"Time Complexity\": duration,\n",
    "    \"File name\": file_name\n",
    "    }\n",
    "population_df = pd.DataFrame(data = table)\n",
    "population_df"
   ]
  },
  {
   "cell_type": "markdown",
   "metadata": {},
   "source": [
    "# Crossover Technique Experiment"
   ]
  },
  {
   "cell_type": "code",
   "execution_count": null,
   "metadata": {},
   "outputs": [],
   "source": [
    "mutation = [0.005, 0.01, 0.025, 0.05, 0.075, 0.1, 0.25, 0.5, 0.75]\n",
    "crossover = [None] * len(mutation)\n",
    "population_size = [100] * len(mutation)\n",
    "generation_sol = []\n",
    "duration = []\n",
    "file_name = []"
   ]
  },
  {
   "cell_type": "code",
   "execution_count": null,
   "metadata": {},
   "outputs": [],
   "source": [
    "for ind in range(len(mutation)):\n",
    "    start = datetime.datetime.now()\n",
    "    gene = 0 # Refer to the genetic algorithm python file\n",
    "    end = datetime.datetime.now()\n",
    "\n",
    "    generation_sol.append(gene)\n",
    "    duration.append(end - start)"
   ]
  },
  {
   "cell_type": "code",
   "execution_count": null,
   "metadata": {},
   "outputs": [],
   "source": [
    "table = { \\\n",
    "    \"Experiment\": [(\"P-\" + str(i)) for i in range(1,len(mutation) + 1)],\n",
    "    \"Mutation Rate\": mutation,\n",
    "    \"Crossover Technique\": crossover,\n",
    "    \"Population Size\": population_size,\n",
    "    \"Generation To Solve\": generation_sol,\n",
    "    \"Time Complexity\": duration,\n",
    "    \"File name\": file_name\n",
    "    }\n",
    "crosstech_df = pd.DataFrame(data = table)\n",
    "crosstech_df"
   ]
  },
  {
   "cell_type": "markdown",
   "metadata": {},
   "source": [
    "# Combining all the results"
   ]
  },
  {
   "cell_type": "code",
   "execution_count": null,
   "metadata": {},
   "outputs": [],
   "source": [
    "df_list = [mutate_df, crossover_df,mutcross_df,population_df,crosstech_df]\n",
    "result = df_list.pop(0)\n",
    "for df in df_list:\n",
    "    result = pd.merge(result, df)\n",
    "result"
   ]
  }
 ],
 "metadata": {
  "language_info": {
   "name": "python"
  }
 },
 "nbformat": 4,
 "nbformat_minor": 2
}
