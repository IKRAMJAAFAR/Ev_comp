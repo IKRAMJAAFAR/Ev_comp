{
 "cells": [
  {
   "cell_type": "code",
   "execution_count": null,
   "metadata": {},
   "outputs": [],
   "source": [
    "import random\n",
    "import string\n",
    "import datetime\n",
    "\n",
    "# Target string\n",
    "target = \"HelloWorld!!\"\n",
    "target_length = len(target)\n",
    "characters = string.ascii_letters + string.punctuation # Possible character set"
   ]
  },
  {
   "cell_type": "code",
   "execution_count": null,
   "metadata": {},
   "outputs": [],
   "source": [
    "def generate_individual(length):\n",
    "    return ''.join(random.choice(characters) for _ in range(length))\n",
    "\n",
    "def generate_population(size, length):\n",
    "    return [generate_individual(length) for _ in range(size)]\n",
    "\n",
    "def calculate_fitness(individual, target):\n",
    "    matches = sum(1 for i in range(len(target)) if individual[i] == target[i])\n",
    "    return matches / len(target)  # Normalized fitness between 0 and 1"
   ]
  },
  {
   "cell_type": "code",
   "execution_count": null,
   "metadata": {},
   "outputs": [],
   "source": [
    "def select_parents(population, fitness_scores):\n",
    "    # Select parents using a weighted random choice based on fitness scores\n",
    "    weights = [fitness for fitness in fitness_scores]\n",
    "    parent1 = random.choices(population, weights=weights, k=1)[0]\n",
    "    parent2 = random.choices(population, weights=weights, k=1)[0]\n",
    "    return parent1, parent2\n",
    "\n",
    "def crossover(parent1, parent2): #One-point crossover\n",
    "    crossover_point = random.randint(1, len(parent1) - 1)\n",
    "    child = parent1[:crossover_point] + parent2[crossover_point:]\n",
    "    return child\n",
    "\n",
    "def mutate(individual, mutation_rate):\n",
    "    mutated = ''.join(\n",
    "        (char if random.random() > mutation_rate else random.choice(characters))\n",
    "        for char in individual\n",
    "    )\n",
    "    return mutated"
   ]
  },
  {
   "cell_type": "code",
   "execution_count": null,
   "metadata": {},
   "outputs": [],
   "source": [
    "def genetic_algorithm(target, population_size, mutation_rate, isMutated = True, isCrossover = True, ):\n",
    "    population = generate_population(population_size, len(target))\n",
    "    generation = 1\n",
    "    while(True):\n",
    "        # Calculate fitness for each individual\n",
    "        fitness_scores = [calculate_fitness(ind, target) for ind in population]\n",
    "\n",
    "        # Check if we found the target\n",
    "        if max(fitness_scores) == 1.0:\n",
    "            print(f\"Target string found in generation {generation}\")\n",
    "            break\n",
    "\n",
    "        # Generate the next generation\n",
    "        next_generation = []\n",
    "        for _ in range(population_size):\n",
    "            parent1, parent2 = select_parents(population, fitness_scores)\n",
    "            child = crossover(parent1, parent2)\n",
    "            child = mutate(child, mutation_rate)\n",
    "            next_generation.append(child)\n",
    "\n",
    "        population = next_generation\n",
    "        best_individual = population[fitness_scores.index(max(fitness_scores))]\n",
    "        print(f\"Generation {generation}: {best_individual}, Fitness: {max(fitness_scores)}\")\n",
    "        generation += 1\n",
    "\n",
    "    return best_individual"
   ]
  },
  {
   "cell_type": "code",
   "execution_count": null,
   "metadata": {},
   "outputs": [],
   "source": [
    "then = datetime.datetime.now()\n",
    "best_solution = genetic_algorithm(target, max_generations, population_size, mutation_rate)\n",
    "now = datetime.datetime.now()\n",
    "print(\"\\nBest solution:\", best_solution)"
   ]
  }
 ],
 "metadata": {
  "language_info": {
   "name": "python"
  }
 },
 "nbformat": 4,
 "nbformat_minor": 2
}
